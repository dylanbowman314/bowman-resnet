{
  "cells": [
    {
      "attachments": {},
      "cell_type": "markdown",
      "metadata": {},
      "source": [
        "# ResNet Implementation\n",
        "\n",
        "For this repository, I implemented the [ResNet paper](https://arxiv.org/pdf/1512.03385.pdf) in PyTorch from scratch without referencing any prior implementations. I downloaded the full [CIFAR-10](https://www.cs.toronto.edu/~kriz/cifar.html) dataset."
      ]
    },
    {
      "cell_type": "code",
      "execution_count": 3,
      "metadata": {
        "id": "K2T2kKKmbub6"
      },
      "outputs": [],
      "source": [
        "import torch\n",
        "import torch.nn as nn\n",
        "import torch.nn.functional as F\n",
        "import torch.optim as optim\n",
        "\n",
        "from resnet import ResNet"
      ]
    },
    {
      "attachments": {},
      "cell_type": "markdown",
      "metadata": {},
      "source": [
        "### Importing Data\n",
        "\n",
        "We use the functions `unpickle` and `array_to_tensor` to convert the data batches to PyTorch tensors. The original file represents the images as 1x3072 vectors, which we have to rearrange to fit 3x32x32."
      ]
    },
    {
      "cell_type": "code",
      "execution_count": 4,
      "metadata": {
        "id": "fjrmXcb7bub7"
      },
      "outputs": [],
      "source": [
        "def unpickle(file):\n",
        "    import pickle\n",
        "    with open(file, 'rb') as fo:\n",
        "        d = pickle.load(fo, encoding='latin1')\n",
        "        fo.close()\n",
        "    return d"
      ]
    },
    {
      "cell_type": "code",
      "execution_count": 5,
      "metadata": {
        "id": "SnehAsj9bub8"
      },
      "outputs": [],
      "source": [
        "def array_to_tensor(a): # B x L\n",
        "    B = len(a)\n",
        "    red = torch.tensor(a[:,0:1024],dtype=torch.float)\n",
        "    green = torch.tensor(a[:,1024:2048],dtype=torch.float)\n",
        "    blue = torch.tensor(a[:,2048:],dtype=torch.float)\n",
        "\n",
        "    return torch.stack((\n",
        "        red.reshape((B,32,32)),\n",
        "        green.reshape((B,32,32)),\n",
        "        blue.reshape((B,32,32))\n",
        "    )).permute(1,0,2,3)"
      ]
    },
    {
      "cell_type": "code",
      "execution_count": 44,
      "metadata": {
        "id": "Do3p8Q6Hbub9"
      },
      "outputs": [],
      "source": [
        "files = ['data_batch_1','data_batch_2','data_batch_3','data_batch_4','data_batch_5']\n",
        "\n",
        "inputs = torch.zeros((0,3,32,32))\n",
        "labels = torch.zeros((0))\n",
        "\n",
        "for f in files:\n",
        "  data = unpickle(f)\n",
        "  input = array_to_tensor(data['data'])\n",
        "  label = torch.tensor(data['labels'])\n",
        "\n",
        "  inputs = torch.cat((inputs,input),dim=0)\n",
        "  labels = torch.cat((labels,label))\n",
        "\n",
        "  del data\n",
        "  del input\n",
        "  del label\n",
        "\n",
        "test_data = unpickle('test_batch')\n",
        "test_inputs = array_to_tensor(test_data['data'])\n",
        "test_labels = torch.tensor(test_data['labels'])\n",
        "\n",
        "inputs = inputs.type(torch.FloatTensor)\n",
        "labels = labels.type(torch.LongTensor)\n",
        "\n",
        "test_inputs = test_inputs.type(torch.FloatTensor)\n",
        "test_labels = test_labels.type(torch.LongTensor)"
      ]
    },
    {
      "attachments": {},
      "cell_type": "markdown",
      "metadata": {},
      "source": [
        "### Initialization\n",
        "\n",
        "We initialize a network `res` from the `resnet.py` file in this repository. The batch size, loss function, and optimizer hyperparameters match the ones specified by the paper. We use the PyTorch `ReduceLROnPlateau` module to match the scheduling specifications from the paper. Finally, we move the training data and network to CUDA if possible."
      ]
    },
    {
      "cell_type": "code",
      "execution_count": 6,
      "metadata": {
        "id": "kNyAXa3GbucB"
      },
      "outputs": [],
      "source": [
        "res = ResNet(3)\n",
        "\n",
        "batch_size = 256\n",
        "criterion = nn.CrossEntropyLoss()\n",
        "optimizer = optim.SGD(\n",
        "    res.parameters(),\n",
        "    lr=0.1,\n",
        "    weight_decay=0.0001,\n",
        "    momentum=0.9)\n",
        "\n",
        "scheduler = optim.lr_scheduler.ReduceLROnPlateau(optimizer)\n",
        "\n",
        "if torch.cuda.is_available():\n",
        "  res = res.to('cuda')\n",
        "  inputs = inputs.to('cuda')\n",
        "  labels = labels.to('cuda')\n",
        "  \n",
        "\n",
        "res = res.train()"
      ]
    },
    {
      "attachments": {},
      "cell_type": "markdown",
      "metadata": {},
      "source": [
        "### Training Loop\n",
        "\n",
        "We train for 100 epochs, since I don't have the time or compute to train for longer. The loss function plateaus around 1.45."
      ]
    },
    {
      "cell_type": "code",
      "execution_count": 47,
      "metadata": {
        "colab": {
          "base_uri": "https://localhost:8080/",
          "height": 450
        },
        "id": "Jn6b2KYjbucB",
        "outputId": "1fde797a-1ea6-4591-bc29-1d24d8fd0467"
      },
      "outputs": [
        {
          "ename": "OutOfMemoryError",
          "evalue": "ignored",
          "output_type": "error",
          "traceback": [
            "\u001b[0;31m---------------------------------------------------------------------------\u001b[0m",
            "\u001b[0;31mOutOfMemoryError\u001b[0m                          Traceback (most recent call last)",
            "\u001b[0;32m<ipython-input-47-c873c3324606>\u001b[0m in \u001b[0;36m<module>\u001b[0;34m\u001b[0m\n\u001b[1;32m      6\u001b[0m         \u001b[0moptimizer\u001b[0m\u001b[0;34m.\u001b[0m\u001b[0mzero_grad\u001b[0m\u001b[0;34m(\u001b[0m\u001b[0;34m)\u001b[0m\u001b[0;34m\u001b[0m\u001b[0;34m\u001b[0m\u001b[0m\n\u001b[1;32m      7\u001b[0m \u001b[0;34m\u001b[0m\u001b[0m\n\u001b[0;32m----> 8\u001b[0;31m         \u001b[0mvals\u001b[0m \u001b[0;34m=\u001b[0m \u001b[0mres\u001b[0m\u001b[0;34m(\u001b[0m\u001b[0mbatch_inputs\u001b[0m\u001b[0;34m)\u001b[0m\u001b[0;34m\u001b[0m\u001b[0;34m\u001b[0m\u001b[0m\n\u001b[0m\u001b[1;32m      9\u001b[0m         \u001b[0mloss\u001b[0m \u001b[0;34m=\u001b[0m \u001b[0mcriterion\u001b[0m\u001b[0;34m(\u001b[0m\u001b[0mvals\u001b[0m\u001b[0;34m,\u001b[0m\u001b[0mbatch_labels\u001b[0m\u001b[0;34m)\u001b[0m\u001b[0;34m\u001b[0m\u001b[0;34m\u001b[0m\u001b[0m\n\u001b[1;32m     10\u001b[0m \u001b[0;34m\u001b[0m\u001b[0m\n",
            "\u001b[0;32m/usr/local/lib/python3.9/dist-packages/torch/nn/modules/module.py\u001b[0m in \u001b[0;36m_call_impl\u001b[0;34m(self, *input, **kwargs)\u001b[0m\n\u001b[1;32m   1192\u001b[0m         if not (self._backward_hooks or self._forward_hooks or self._forward_pre_hooks or _global_backward_hooks\n\u001b[1;32m   1193\u001b[0m                 or _global_forward_hooks or _global_forward_pre_hooks):\n\u001b[0;32m-> 1194\u001b[0;31m             \u001b[0;32mreturn\u001b[0m \u001b[0mforward_call\u001b[0m\u001b[0;34m(\u001b[0m\u001b[0;34m*\u001b[0m\u001b[0minput\u001b[0m\u001b[0;34m,\u001b[0m \u001b[0;34m**\u001b[0m\u001b[0mkwargs\u001b[0m\u001b[0;34m)\u001b[0m\u001b[0;34m\u001b[0m\u001b[0;34m\u001b[0m\u001b[0m\n\u001b[0m\u001b[1;32m   1195\u001b[0m         \u001b[0;31m# Do not call functions when jit is used\u001b[0m\u001b[0;34m\u001b[0m\u001b[0;34m\u001b[0m\u001b[0m\n\u001b[1;32m   1196\u001b[0m         \u001b[0mfull_backward_hooks\u001b[0m\u001b[0;34m,\u001b[0m \u001b[0mnon_full_backward_hooks\u001b[0m \u001b[0;34m=\u001b[0m \u001b[0;34m[\u001b[0m\u001b[0;34m]\u001b[0m\u001b[0;34m,\u001b[0m \u001b[0;34m[\u001b[0m\u001b[0;34m]\u001b[0m\u001b[0;34m\u001b[0m\u001b[0;34m\u001b[0m\u001b[0m\n",
            "\u001b[0;32m<ipython-input-8-1661944624c4>\u001b[0m in \u001b[0;36mforward\u001b[0;34m(self, img)\u001b[0m\n\u001b[1;32m     18\u001b[0m \u001b[0;34m\u001b[0m\u001b[0m\n\u001b[1;32m     19\u001b[0m     \u001b[0;32mdef\u001b[0m \u001b[0mforward\u001b[0m\u001b[0;34m(\u001b[0m\u001b[0mself\u001b[0m\u001b[0;34m,\u001b[0m\u001b[0mimg\u001b[0m\u001b[0;34m)\u001b[0m\u001b[0;34m:\u001b[0m\u001b[0;34m\u001b[0m\u001b[0;34m\u001b[0m\u001b[0m\n\u001b[0;32m---> 20\u001b[0;31m         \u001b[0mimg\u001b[0m \u001b[0;34m=\u001b[0m \u001b[0mimg\u001b[0m \u001b[0;34m-\u001b[0m \u001b[0mtorch\u001b[0m\u001b[0;34m.\u001b[0m\u001b[0mmean\u001b[0m\u001b[0;34m(\u001b[0m\u001b[0mimg\u001b[0m\u001b[0;34m)\u001b[0m\u001b[0;34m\u001b[0m\u001b[0;34m\u001b[0m\u001b[0m\n\u001b[0m\u001b[1;32m     21\u001b[0m \u001b[0;34m\u001b[0m\u001b[0m\n\u001b[1;32m     22\u001b[0m         \u001b[0mimg\u001b[0m \u001b[0;34m=\u001b[0m \u001b[0mself\u001b[0m\u001b[0;34m.\u001b[0m\u001b[0mconv1\u001b[0m\u001b[0;34m(\u001b[0m\u001b[0mimg\u001b[0m\u001b[0;34m)\u001b[0m\u001b[0;34m\u001b[0m\u001b[0;34m\u001b[0m\u001b[0m\n",
            "\u001b[0;31mOutOfMemoryError\u001b[0m: CUDA out of memory. Tried to allocate 20.00 MiB (GPU 0; 14.75 GiB total capacity; 13.60 GiB already allocated; 12.81 MiB free; 13.62 GiB reserved in total by PyTorch) If reserved memory is >> allocated memory try setting max_split_size_mb to avoid fragmentation.  See documentation for Memory Management and PYTORCH_CUDA_ALLOC_CONF"
          ]
        }
      ],
      "source": [
        "for e in range(100):\n",
        "    for i in range(int(len(inputs)/batch_size)):\n",
        "        batch_inputs = inputs[i*batch_size:(i+1)*batch_size]\n",
        "        batch_labels = labels[i*batch_size:(i+1)*batch_size]\n",
        "        \n",
        "        optimizer.zero_grad()\n",
        "\n",
        "        vals = res(batch_inputs)\n",
        "        loss = criterion(vals,batch_labels)\n",
        "        \n",
        "        loss.backward()\n",
        "        optimizer.step()\n",
        "\n",
        "    scheduler.step(loss)\n",
        "\n",
        "    if e % 2 == 0:\n",
        "        lr = optimizer.param_groups[0]['lr']\n",
        "        print(f'epoch: {e}, loss: {loss}, lr: {lr}')"
      ]
    },
    {
      "attachments": {},
      "cell_type": "markdown",
      "metadata": {},
      "source": [
        "### Results\n",
        "\n",
        "With ResNet-20, the original paper reports an error rate of 8.75%. With just the free Google Colab GPU, I was able to get an error rate of 18.5%."
      ]
    },
    {
      "cell_type": "code",
      "execution_count": 52,
      "metadata": {
        "colab": {
          "base_uri": "https://localhost:8080/"
        },
        "id": "9Hbj26NZbucC",
        "outputId": "eec8cfcf-74ac-4234-c550-074dbbc28ec0"
      },
      "outputs": [
        {
          "data": {
            "text/plain": [
              "0.815"
            ]
          },
          "execution_count": 52,
          "metadata": {},
          "output_type": "execute_result"
        }
      ],
      "source": [
        "res.eval()\n",
        "\n",
        "torch.cuda.empty_cache()\n",
        "\n",
        "if torch.cuda.is_available():\n",
        "  test_inputs = test_inputs[:1000].to('cpu')\n",
        "  test_labels = test_labels[:1000].to('cpu')\n",
        "  res.to('cpu')\n",
        "\n",
        "num_error = sum([0 if i == 0 else 1 for i in torch.argmax(res(test_inputs), dim=1) - test_labels])\n",
        "\n",
        "1 - num_error/len(test_labels)"
      ]
    }
  ],
  "metadata": {
    "accelerator": "GPU",
    "colab": {
      "provenance": []
    },
    "gpuClass": "standard",
    "kernelspec": {
      "display_name": "446",
      "language": "python",
      "name": "python3"
    },
    "language_info": {
      "codemirror_mode": {
        "name": "ipython",
        "version": 3
      },
      "file_extension": ".py",
      "mimetype": "text/x-python",
      "name": "python",
      "nbconvert_exporter": "python",
      "pygments_lexer": "ipython3",
      "version": "3.10.8"
    },
    "orig_nbformat": 4,
    "vscode": {
      "interpreter": {
        "hash": "32159f48c500e2bfada330cc316320c33c2648e0baf3b3a9704aa86c72d9e0e9"
      }
    }
  },
  "nbformat": 4,
  "nbformat_minor": 0
}
